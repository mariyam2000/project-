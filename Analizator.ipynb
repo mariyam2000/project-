{
  "nbformat": 4,
  "nbformat_minor": 0,
  "metadata": {
    "colab": {
      "name": "Analizator.ipynb",
      "provenance": [],
      "collapsed_sections": [],
      "include_colab_link": true
    },
    "kernelspec": {
      "display_name": "Python 3",
      "language": "python",
      "name": "python3"
    },
    "language_info": {
      "codemirror_mode": {
        "name": "ipython",
        "version": 3
      },
      "file_extension": ".py",
      "mimetype": "text/x-python",
      "name": "python",
      "nbconvert_exporter": "python",
      "pygments_lexer": "ipython3",
      "version": "3.8.3"
    }
  },
  "cells": [
    {
      "cell_type": "markdown",
      "metadata": {
        "id": "view-in-github",
        "colab_type": "text"
      },
      "source": [
        "<a href=\"https://colab.research.google.com/github/mariyam2000/project-/blob/main/Analizator.ipynb\" target=\"_parent\"><img src=\"https://colab.research.google.com/assets/colab-badge.svg\" alt=\"Open In Colab\"/></a>"
      ]
    },
    {
      "cell_type": "code",
      "metadata": {
        "colab": {
          "base_uri": "https://localhost:8080/"
        },
        "id": "hWthXa3agsk_",
        "outputId": "8dfc48ea-1c4e-48be-a506-1d9ad22e100e"
      },
      "source": [
        "from google.colab import drive\n",
        "drive.mount('/content/drive/')\n"
      ],
      "execution_count": 1,
      "outputs": [
        {
          "output_type": "stream",
          "text": [
            "Mounted at /content/drive/\n"
          ],
          "name": "stdout"
        }
      ]
    },
    {
      "cell_type": "code",
      "metadata": {
        "id": "AlLqASqSgrBH"
      },
      "source": [
        "path = r\"/content/drive/My Drive/\""
      ],
      "execution_count": 2,
      "outputs": []
    },
    {
      "cell_type": "code",
      "metadata": {
        "id": "lWa_rqV9tDic"
      },
      "source": [
        "#required libraries\n",
        "import pandas as pd\n",
        "import numpy as np\n",
        "import matplotlib.pyplot as plt "
      ],
      "execution_count": 3,
      "outputs": []
    },
    {
      "cell_type": "code",
      "metadata": {
        "id": "ReyV_D_1tDio"
      },
      "source": [
        "# database of microelements\n",
        "df = pd.read_excel(path + 'ABBREV.xlsx')"
      ],
      "execution_count": 4,
      "outputs": []
    },
    {
      "cell_type": "markdown",
      "metadata": {
        "id": "fA-mjg9ntDip"
      },
      "source": [
        "In this database all microelements for 100g of product"
      ]
    },
    {
      "cell_type": "code",
      "metadata": {
        "id": "oO7FWixatDis",
        "colab": {
          "base_uri": "https://localhost:8080/"
        },
        "outputId": "d1f9e964-dc8b-4827-d45c-1fc6ee1fcd7c"
      },
      "source": [
        "# check info about data\n",
        "df.info()"
      ],
      "execution_count": 5,
      "outputs": [
        {
          "output_type": "stream",
          "text": [
            "<class 'pandas.core.frame.DataFrame'>\n",
            "RangeIndex: 8790 entries, 0 to 8789\n",
            "Data columns (total 53 columns):\n",
            " #   Column             Non-Null Count  Dtype  \n",
            "---  ------             --------------  -----  \n",
            " 0   NDB_No             8790 non-null   int64  \n",
            " 1   Shrt_Desc          8790 non-null   object \n",
            " 2   Water_(g)          8789 non-null   float64\n",
            " 3   Energ_Kcal         8790 non-null   int64  \n",
            " 4   Protein_(g)        8790 non-null   float64\n",
            " 5   Lipid_Tot_(g)      8790 non-null   float64\n",
            " 6   Ash_(g)            8465 non-null   float64\n",
            " 7   Carbohydrt_(g)     8790 non-null   float64\n",
            " 8   Fiber_TD_(g)       8196 non-null   float64\n",
            " 9   Sugar_Tot_(g)      6958 non-null   float64\n",
            " 10  Calcium_(mg)       8442 non-null   float64\n",
            " 11  Iron_(mg)          8646 non-null   float64\n",
            " 12  Magnesium_(mg)     8051 non-null   float64\n",
            " 13  Phosphorus_(mg)    8211 non-null   float64\n",
            " 14  Potassium_(mg)     8364 non-null   float64\n",
            " 15  Sodium_(mg)        8707 non-null   float64\n",
            " 16  Zinc_(mg)          8084 non-null   float64\n",
            " 17  Copper_mg)         7533 non-null   float64\n",
            " 18  Manganese_(mg)     6630 non-null   float64\n",
            " 19  Selenium_(µg)      7090 non-null   float64\n",
            " 20  Vit_C_(mg)         7972 non-null   float64\n",
            " 21  Thiamin_(mg)       8156 non-null   float64\n",
            " 22  Riboflavin_(mg)    8174 non-null   float64\n",
            " 23  Niacin_(mg)        8153 non-null   float64\n",
            " 24  Panto_Acid_mg)     6548 non-null   float64\n",
            " 25  Vit_B6_(mg)        7885 non-null   float64\n",
            " 26  Folate_Tot_(µg)    7529 non-null   float64\n",
            " 27  Folic_Acid_(µg)    6751 non-null   float64\n",
            " 28  Food_Folate_(µg)   7022 non-null   float64\n",
            " 29  Folate_DFE_(µg)    6733 non-null   float64\n",
            " 30  Choline_Tot_ (mg)  4774 non-null   float64\n",
            " 31  Vit_B12_(µg)       7597 non-null   float64\n",
            " 32  Vit_A_IU           8079 non-null   float64\n",
            " 33  Vit_A_RAE          7255 non-null   float64\n",
            " 34  Retinol_(µg)       6984 non-null   float64\n",
            " 35  Alpha_Carot_(µg)   5532 non-null   float64\n",
            " 36  Beta_Carot_(µg)    5628 non-null   float64\n",
            " 37  Beta_Crypt_(µg)    5520 non-null   float64\n",
            " 38  Lycopene_(µg)      5498 non-null   float64\n",
            " 39  Lut+Zea_ (µg)      5475 non-null   float64\n",
            " 40  Vit_E_(mg)         5901 non-null   float64\n",
            " 41  Vit_D_µg           5528 non-null   float64\n",
            " 42  Vit_D_IU           5579 non-null   float64\n",
            " 43  Vit_K_(µg)         5227 non-null   float64\n",
            " 44  FA_Sat_(g)         8441 non-null   float64\n",
            " 45  FA_Mono_(g)        8124 non-null   float64\n",
            " 46  FA_Poly_(g)        8125 non-null   float64\n",
            " 47  Cholestrl_(mg)     8380 non-null   float64\n",
            " 48  GmWt_1             8490 non-null   float64\n",
            " 49  GmWt_Desc1         8491 non-null   object \n",
            " 50  GmWt_2             4825 non-null   float64\n",
            " 51  GmWt_Desc2         4825 non-null   object \n",
            " 52  Refuse_Pct         8740 non-null   float64\n",
            "dtypes: float64(48), int64(2), object(3)\n",
            "memory usage: 3.6+ MB\n"
          ],
          "name": "stdout"
        }
      ]
    },
    {
      "cell_type": "code",
      "metadata": {
        "id": "2GyROmMntDiu"
      },
      "source": [
        "# drop useless columns\n",
        "af = df.drop(['NDB_No','GmWt_1','GmWt_Desc1','GmWt_2','GmWt_Desc2','Refuse_Pct'], axis = 1)\n",
        "af"
      ],
      "execution_count": null,
      "outputs": []
    },
    {
      "cell_type": "markdown",
      "metadata": {
        "id": "PVUpPErAtDiv"
      },
      "source": [
        "# Visualization"
      ]
    },
    {
      "cell_type": "code",
      "metadata": {
        "id": "tnjG6d2gtDiw",
        "colab": {
          "base_uri": "https://localhost:8080/",
          "height": 282
        },
        "outputId": "c307826d-d35a-4c78-d65d-93b18f43eda9"
      },
      "source": [
        "df['Carbohydrt_(g)'].hist()"
      ],
      "execution_count": 7,
      "outputs": [
        {
          "output_type": "execute_result",
          "data": {
            "text/plain": [
              "<matplotlib.axes._subplots.AxesSubplot at 0x7ffb10e78150>"
            ]
          },
          "metadata": {
            "tags": []
          },
          "execution_count": 7
        },
        {
          "output_type": "display_data",
          "data": {
            "image/png": "[encoded data removed]",
            "text/plain": [
              "<Figure size 432x288 with 1 Axes>"
            ]
          },
          "metadata": {
            "tags": [],
            "needs_background": "light"
          }
        }
      ]
    },
    {
      "cell_type": "code",
      "metadata": {
        "id": "GUHj-diytDiw",
        "colab": {
          "base_uri": "https://localhost:8080/",
          "height": 283
        },
        "outputId": "ba597e81-2a8b-404f-b46e-fbf3d45701af"
      },
      "source": [
        "df['Lipid_Tot_(g)'].hist()"
      ],
      "execution_count": 8,
      "outputs": [
        {
          "output_type": "execute_result",
          "data": {
            "text/plain": [
              "<matplotlib.axes._subplots.AxesSubplot at 0x7ffb10b509d0>"
            ]
          },
          "metadata": {
            "tags": []
          },
          "execution_count": 8
        },
        {
          "output_type": "display_data",
          "data": {
            "image/png": "[encoded data removed]",
            "text/plain": [
              "<Figure size 432x288 with 1 Axes>"
            ]
          },
          "metadata": {
            "tags": [],
            "needs_background": "light"
          }
        }
      ]
    },
    {
      "cell_type": "code",
      "metadata": {
        "id": "k0SlJhOCtDix",
        "colab": {
          "base_uri": "https://localhost:8080/",
          "height": 282
        },
        "outputId": "bfd106c6-4028-40f0-b6b8-dba2367d7600"
      },
      "source": [
        "df['Protein_(g)'].hist()"
      ],
      "execution_count": 9,
      "outputs": [
        {
          "output_type": "execute_result",
          "data": {
            "text/plain": [
              "<matplotlib.axes._subplots.AxesSubplot at 0x7ffb10c0f990>"
            ]
          },
          "metadata": {
            "tags": []
          },
          "execution_count": 9
        },
        {
          "output_type": "display_data",
          "data": {
            "image/png": "[encoded data removed]",
            "text/plain": [
              "<Figure size 432x288 with 1 Axes>"
            ]
          },
          "metadata": {
            "tags": [],
            "needs_background": "light"
          }
        }
      ]
    },
    {
      "cell_type": "code",
      "metadata": {
        "id": "ByfDWmZstDiy",
        "colab": {
          "base_uri": "https://localhost:8080/",
          "height": 282
        },
        "outputId": "af3f30e8-e6e3-4d4a-8449-44d49a156db5"
      },
      "source": [
        "df['Water_(g)'].hist()"
      ],
      "execution_count": 10,
      "outputs": [
        {
          "output_type": "execute_result",
          "data": {
            "text/plain": [
              "<matplotlib.axes._subplots.AxesSubplot at 0x7ffb10c2b6d0>"
            ]
          },
          "metadata": {
            "tags": []
          },
          "execution_count": 10
        },
        {
          "output_type": "display_data",
          "data": {
            "image/png": "[encoded data removed]",
            "text/plain": [
              "<Figure size 432x288 with 1 Axes>"
            ]
          },
          "metadata": {
            "tags": [],
            "needs_background": "light"
          }
        }
      ]
    },
    {
      "cell_type": "code",
      "metadata": {
        "id": "28a6wfoHtDiy",
        "colab": {
          "base_uri": "https://localhost:8080/",
          "height": 282
        },
        "outputId": "62cbf8aa-d86d-4449-c63f-5206bcecccf2"
      },
      "source": [
        "df.Energ_Kcal.hist()"
      ],
      "execution_count": 11,
      "outputs": [
        {
          "output_type": "execute_result",
          "data": {
            "text/plain": [
              "<matplotlib.axes._subplots.AxesSubplot at 0x7ffb120bff50>"
            ]
          },
          "metadata": {
            "tags": []
          },
          "execution_count": 11
        },
        {
          "output_type": "display_data",
          "data": {
            "image/png": "[encoded data removed]",
            "text/plain": [
              "<Figure size 432x288 with 1 Axes>"
            ]
          },
          "metadata": {
            "tags": [],
            "needs_background": "light"
          }
        }
      ]
    },
    {
      "cell_type": "code",
      "metadata": {
        "id": "YydMAvFftDiz",
        "colab": {
          "base_uri": "https://localhost:8080/",
          "height": 624
        },
        "outputId": "b6e748a2-9523-47ae-a41e-061b5638a9a4"
      },
      "source": [
        "plt.figure(figsize=(20,10))\n",
        "plt.title(\"Kcal by Protein\")\n",
        "plt.plot(df['Energ_Kcal'], df['Protein_(g)'],'r+')"
      ],
      "execution_count": 12,
      "outputs": [
        {
          "output_type": "execute_result",
          "data": {
            "text/plain": [
              "[<matplotlib.lines.Line2D at 0x7ffb17e4e210>]"
            ]
          },
          "metadata": {
            "tags": []
          },
          "execution_count": 12
        },
        {
          "output_type": "display_data",
          "data": {
            "image/png": "[encoded data removed]",
            "text/plain": [
              "<Figure size 1440x720 with 1 Axes>"
            ]
          },
          "metadata": {
            "tags": [],
            "needs_background": "light"
          }
        }
      ]
    },
    {
      "cell_type": "code",
      "metadata": {
        "id": "BFInVnpatDiz",
        "colab": {
          "base_uri": "https://localhost:8080/",
          "height": 624
        },
        "outputId": "a470f70a-4eca-4c87-ae17-d3d6c351ac34"
      },
      "source": [
        "plt.figure(figsize=(20,10))\n",
        "plt.title(\"Kcal by Lipid\")\n",
        "plt.plot(df['Energ_Kcal'], df['Lipid_Tot_(g)'],'r+')"
      ],
      "execution_count": 13,
      "outputs": [
        {
          "output_type": "execute_result",
          "data": {
            "text/plain": [
              "[<matplotlib.lines.Line2D at 0x7ffb11e10e10>]"
            ]
          },
          "metadata": {
            "tags": []
          },
          "execution_count": 13
        },
        {
          "output_type": "display_data",
          "data": {
            "image/png": "[encoded data removed]",
            "text/plain": [
              "<Figure size 1440x720 with 1 Axes>"
            ]
          },
          "metadata": {
            "tags": [],
            "needs_background": "light"
          }
        }
      ]
    },
    {
      "cell_type": "code",
      "metadata": {
        "id": "QLPaMO0ptDi0",
        "colab": {
          "base_uri": "https://localhost:8080/",
          "height": 624
        },
        "outputId": "007e7fe7-f5c7-40e3-dde2-305d07b80d95"
      },
      "source": [
        "plt.figure(figsize=(20,10))\n",
        "plt.title(\"Kcal by Carbohydrt\")\n",
        "plt.plot(df['Energ_Kcal'], df['Carbohydrt_(g)'],'r+')"
      ],
      "execution_count": 14,
      "outputs": [
        {
          "output_type": "execute_result",
          "data": {
            "text/plain": [
              "[<matplotlib.lines.Line2D at 0x7ffb11e9cb90>]"
            ]
          },
          "metadata": {
            "tags": []
          },
          "execution_count": 14
        },
        {
          "output_type": "display_data",
          "data": {
            "image/png": "[encoded data removed]",
            "text/plain": [
              "<Figure size 1440x720 with 1 Axes>"
            ]
          },
          "metadata": {
            "tags": [],
            "needs_background": "light"
          }
        }
      ]
    },
    {
      "cell_type": "markdown",
      "metadata": {
        "id": "6JrbemnxtDi0"
      },
      "source": [
        "# Analization"
      ]
    },
    {
      "cell_type": "code",
      "metadata": {
        "colab": {
          "base_uri": "https://localhost:8080/"
        },
        "id": "S-KPK0Y8tDi1",
        "outputId": "6f07e1f4-51ca-4939-8187-972a7094622b"
      },
      "source": [
        "def user_input():    \n",
        "    print('your input must be in following format: product1 132 , product2 324')\n",
        "    products_and_gramms = input('enter your products and gramms:')\n",
        "    return make_df(products_and_gramms)\n",
        "    \n",
        "    \n",
        "# make dataframe from user input  \n",
        "def make_df(products_and_gramms):\n",
        "    user_data = []\n",
        "    # split products \n",
        "    for item in products_and_gramms.split(','):\n",
        "        di = {}\n",
        "        # split product and gramm\n",
        "        product_and_gramm = item.strip().split(' ')\n",
        "        # edit user input to one format \n",
        "        di['product'] = product_and_gramm[0].upper()\n",
        "        di['gramm'] = int(product_and_gramm[1])\n",
        "        user_data.append(di)\n",
        "        \n",
        "    # create DF\n",
        "    user_df = pd.DataFrame(user_data)\n",
        "    return user_df\n",
        "\n",
        "user_df = user_input()"
      ],
      "execution_count": 15,
      "outputs": [
        {
          "output_type": "stream",
          "text": [
            "your input must be in following format: product1 132 , product2 324\n",
            "enter your products and gramms:bread 120 ,  egg 400,  cheese 560, peach 150,  tomatoes 500, parmesan 300\n"
          ],
          "name": "stdout"
        }
      ]
    },
    {
      "cell_type": "code",
      "metadata": {
        "id": "4542eCMMtDi2",
        "colab": {
          "base_uri": "https://localhost:8080/",
          "height": 235
        },
        "outputId": "5807710e-1c0b-4602-dd10-d6426a470bc2"
      },
      "source": [
        "user_df"
      ],
      "execution_count": 16,
      "outputs": [
        {
          "output_type": "execute_result",
          "data": {
            "text/html": [
              "<div>\n",
              "<style scoped>\n",
              "    .dataframe tbody tr th:only-of-type {\n",
              "        vertical-align: middle;\n",
              "    }\n",
              "\n",
              "    .dataframe tbody tr th {\n",
              "        vertical-align: top;\n",
              "    }\n",
              "\n",
              "    .dataframe thead th {\n",
              "        text-align: right;\n",
              "    }\n",
              "</style>\n",
              "<table border=\"1\" class=\"dataframe\">\n",
              "  <thead>\n",
              "    <tr style=\"text-align: right;\">\n",
              "      <th></th>\n",
              "      <th>product</th>\n",
              "      <th>gramm</th>\n",
              "    </tr>\n",
              "  </thead>\n",
              "  <tbody>\n",
              "    <tr>\n",
              "      <th>0</th>\n",
              "      <td>BREAD</td>\n",
              "      <td>120</td>\n",
              "    </tr>\n",
              "    <tr>\n",
              "      <th>1</th>\n",
              "      <td>EGG</td>\n",
              "      <td>400</td>\n",
              "    </tr>\n",
              "    <tr>\n",
              "      <th>2</th>\n",
              "      <td>CHEESE</td>\n",
              "      <td>560</td>\n",
              "    </tr>\n",
              "    <tr>\n",
              "      <th>3</th>\n",
              "      <td>PEACH</td>\n",
              "      <td>150</td>\n",
              "    </tr>\n",
              "    <tr>\n",
              "      <th>4</th>\n",
              "      <td>TOMATOES</td>\n",
              "      <td>500</td>\n",
              "    </tr>\n",
              "    <tr>\n",
              "      <th>5</th>\n",
              "      <td>PARMESAN</td>\n",
              "      <td>300</td>\n",
              "    </tr>\n",
              "  </tbody>\n",
              "</table>\n",
              "</div>"
            ],
            "text/plain": [
              "    product  gramm\n",
              "0     BREAD    120\n",
              "1       EGG    400\n",
              "2    CHEESE    560\n",
              "3     PEACH    150\n",
              "4  TOMATOES    500\n",
              "5  PARMESAN    300"
            ]
          },
          "metadata": {
            "tags": []
          },
          "execution_count": 16
        }
      ]
    },
    {
      "cell_type": "code",
      "metadata": {
        "id": "H7QL4n7StDi2"
      },
      "source": [
        "# new DF for merged data\n",
        "new_df = pd.DataFrame()\n",
        "for j in range(len(user_df)):\n",
        "    # temp DF for each product \n",
        "    temp_df = pd.DataFrame()\n",
        "    for i in range(len(af)):\n",
        "        try:\n",
        "            if af['Shrt_Desc'].iloc[i].startswith(user_df['product'].iloc[j]):\n",
        "               temp_df = pd.concat([temp_df,af.iloc[i]], axis=1)\n",
        "        except:\n",
        "            pass\n",
        "    # our Database have a lot  of variations of one product, we take mean by each product\n",
        "    new_df = pd.concat([new_df,temp_df[1:].mean(axis='columns')], axis=1)\n",
        "    "
      ],
      "execution_count": 17,
      "outputs": []
    },
    {
      "cell_type": "code",
      "metadata": {
        "id": "VDrKW1Pvhcmq",
        "colab": {
          "base_uri": "https://localhost:8080/",
          "height": 1000
        },
        "outputId": "4446f11c-050d-4fa3-dcb9-81f713d7f43f"
      },
      "source": [
        "new_df"
      ],
      "execution_count": 18,
      "outputs": [
        {
          "output_type": "execute_result",
          "data": {
            "text/html": [
              "<div>\n",
              "<style scoped>\n",
              "    .dataframe tbody tr th:only-of-type {\n",
              "        vertical-align: middle;\n",
              "    }\n",
              "\n",
              "    .dataframe tbody tr th {\n",
              "        vertical-align: top;\n",
              "    }\n",
              "\n",
              "    .dataframe thead th {\n",
              "        text-align: right;\n",
              "    }\n",
              "</style>\n",
              "<table border=\"1\" class=\"dataframe\">\n",
              "  <thead>\n",
              "    <tr style=\"text-align: right;\">\n",
              "      <th></th>\n",
              "      <th>0</th>\n",
              "      <th>0</th>\n",
              "      <th>0</th>\n",
              "      <th>0</th>\n",
              "      <th>0</th>\n",
              "      <th>0</th>\n",
              "    </tr>\n",
              "  </thead>\n",
              "  <tbody>\n",
              "    <tr>\n",
              "      <th>Water_(g)</th>\n",
              "      <td>34.457262</td>\n",
              "      <td>55.625500</td>\n",
              "      <td>49.417600</td>\n",
              "      <td>73.619412</td>\n",
              "      <td>84.285000</td>\n",
              "      <td>8.600</td>\n",
              "    </tr>\n",
              "    <tr>\n",
              "      <th>Energ_Kcal</th>\n",
              "      <td>277.178571</td>\n",
              "      <td>231.275000</td>\n",
              "      <td>289.150000</td>\n",
              "      <td>94.058824</td>\n",
              "      <td>54.500000</td>\n",
              "      <td>370.000</td>\n",
              "    </tr>\n",
              "    <tr>\n",
              "      <th>Protein_(g)</th>\n",
              "      <td>8.976190</td>\n",
              "      <td>21.173750</td>\n",
              "      <td>20.342300</td>\n",
              "      <td>1.092941</td>\n",
              "      <td>2.290714</td>\n",
              "      <td>40.000</td>\n",
              "    </tr>\n",
              "    <tr>\n",
              "      <th>Lipid_Tot_(g)</th>\n",
              "      <td>5.289762</td>\n",
              "      <td>11.826250</td>\n",
              "      <td>20.434000</td>\n",
              "      <td>0.219412</td>\n",
              "      <td>1.560714</td>\n",
              "      <td>5.000</td>\n",
              "    </tr>\n",
              "    <tr>\n",
              "      <th>Ash_(g)</th>\n",
              "      <td>2.163095</td>\n",
              "      <td>2.396500</td>\n",
              "      <td>3.895200</td>\n",
              "      <td>0.709412</td>\n",
              "      <td>1.911429</td>\n",
              "      <td>6.400</td>\n",
              "    </tr>\n",
              "    <tr>\n",
              "      <th>Carbohydrt_(g)</th>\n",
              "      <td>49.089643</td>\n",
              "      <td>8.987500</td>\n",
              "      <td>5.936200</td>\n",
              "      <td>24.361176</td>\n",
              "      <td>9.953571</td>\n",
              "      <td>40.000</td>\n",
              "    </tr>\n",
              "    <tr>\n",
              "      <th>Fiber_TD_(g)</th>\n",
              "      <td>4.962500</td>\n",
              "      <td>0.446154</td>\n",
              "      <td>0.089796</td>\n",
              "      <td>1.833333</td>\n",
              "      <td>2.446154</td>\n",
              "      <td>0.000</td>\n",
              "    </tr>\n",
              "    <tr>\n",
              "      <th>Sugar_Tot_(g)</th>\n",
              "      <td>5.861714</td>\n",
              "      <td>2.908919</td>\n",
              "      <td>2.694674</td>\n",
              "      <td>16.281667</td>\n",
              "      <td>6.913333</td>\n",
              "      <td>1.500</td>\n",
              "    </tr>\n",
              "    <tr>\n",
              "      <th>Calcium_(mg)</th>\n",
              "      <td>86.714286</td>\n",
              "      <td>93.850000</td>\n",
              "      <td>591.480000</td>\n",
              "      <td>8.764706</td>\n",
              "      <td>28.428571</td>\n",
              "      <td>800.000</td>\n",
              "    </tr>\n",
              "    <tr>\n",
              "      <th>Iron_(mg)</th>\n",
              "      <td>2.723333</td>\n",
              "      <td>2.162250</td>\n",
              "      <td>0.438000</td>\n",
              "      <td>1.041176</td>\n",
              "      <td>1.425714</td>\n",
              "      <td>5.000</td>\n",
              "    </tr>\n",
              "    <tr>\n",
              "      <th>Magnesium_(mg)</th>\n",
              "      <td>40.738095</td>\n",
              "      <td>23.300000</td>\n",
              "      <td>25.930000</td>\n",
              "      <td>12.529412</td>\n",
              "      <td>29.428571</td>\n",
              "      <td>40.000</td>\n",
              "    </tr>\n",
              "    <tr>\n",
              "      <th>Phosphorus_(mg)</th>\n",
              "      <td>151.964286</td>\n",
              "      <td>220.675000</td>\n",
              "      <td>470.240000</td>\n",
              "      <td>32.647059</td>\n",
              "      <td>57.571429</td>\n",
              "      <td>700.000</td>\n",
              "    </tr>\n",
              "    <tr>\n",
              "      <th>Potassium_(mg)</th>\n",
              "      <td>214.345238</td>\n",
              "      <td>296.025000</td>\n",
              "      <td>157.780000</td>\n",
              "      <td>274.411765</td>\n",
              "      <td>541.071429</td>\n",
              "      <td>600.000</td>\n",
              "    </tr>\n",
              "    <tr>\n",
              "      <th>Sodium_(mg)</th>\n",
              "      <td>484.154762</td>\n",
              "      <td>528.100000</td>\n",
              "      <td>800.010000</td>\n",
              "      <td>5.058824</td>\n",
              "      <td>150.142857</td>\n",
              "      <td>1150.000</td>\n",
              "    </tr>\n",
              "    <tr>\n",
              "      <th>Zinc_(mg)</th>\n",
              "      <td>1.008452</td>\n",
              "      <td>1.375500</td>\n",
              "      <td>2.482100</td>\n",
              "      <td>0.184118</td>\n",
              "      <td>0.335714</td>\n",
              "      <td>3.000</td>\n",
              "    </tr>\n",
              "    <tr>\n",
              "      <th>Copper_mg)</th>\n",
              "      <td>0.209964</td>\n",
              "      <td>0.081900</td>\n",
              "      <td>0.059560</td>\n",
              "      <td>0.116529</td>\n",
              "      <td>0.210143</td>\n",
              "      <td>0.020</td>\n",
              "    </tr>\n",
              "    <tr>\n",
              "      <th>Manganese_(mg)</th>\n",
              "      <td>0.799575</td>\n",
              "      <td>0.078789</td>\n",
              "      <td>0.030813</td>\n",
              "      <td>0.098733</td>\n",
              "      <td>0.260500</td>\n",
              "      <td>NaN</td>\n",
              "    </tr>\n",
              "    <tr>\n",
              "      <th>Selenium_(µg)</th>\n",
              "      <td>25.406667</td>\n",
              "      <td>50.292500</td>\n",
              "      <td>14.703000</td>\n",
              "      <td>0.292308</td>\n",
              "      <td>1.107692</td>\n",
              "      <td>43.300</td>\n",
              "    </tr>\n",
              "    <tr>\n",
              "      <th>Vit_C_(mg)</th>\n",
              "      <td>0.841558</td>\n",
              "      <td>1.423077</td>\n",
              "      <td>0.354082</td>\n",
              "      <td>10.288235</td>\n",
              "      <td>22.528571</td>\n",
              "      <td>0.000</td>\n",
              "    </tr>\n",
              "    <tr>\n",
              "      <th>Thiamin_(mg)</th>\n",
              "      <td>0.365410</td>\n",
              "      <td>0.111150</td>\n",
              "      <td>0.046890</td>\n",
              "      <td>0.011824</td>\n",
              "      <td>0.170714</td>\n",
              "      <td>0.050</td>\n",
              "    </tr>\n",
              "    <tr>\n",
              "      <th>Riboflavin_(mg)</th>\n",
              "      <td>0.259229</td>\n",
              "      <td>0.729125</td>\n",
              "      <td>0.351050</td>\n",
              "      <td>0.041000</td>\n",
              "      <td>0.096571</td>\n",
              "      <td>0.050</td>\n",
              "    </tr>\n",
              "    <tr>\n",
              "      <th>Niacin_(mg)</th>\n",
              "      <td>3.721687</td>\n",
              "      <td>0.446900</td>\n",
              "      <td>0.359310</td>\n",
              "      <td>1.233176</td>\n",
              "      <td>1.551429</td>\n",
              "      <td>0.200</td>\n",
              "    </tr>\n",
              "    <tr>\n",
              "      <th>Panto_Acid_mg)</th>\n",
              "      <td>0.445413</td>\n",
              "      <td>1.999395</td>\n",
              "      <td>0.520747</td>\n",
              "      <td>0.151941</td>\n",
              "      <td>0.338500</td>\n",
              "      <td>NaN</td>\n",
              "    </tr>\n",
              "    <tr>\n",
              "      <th>Vit_B6_(mg)</th>\n",
              "      <td>0.123463</td>\n",
              "      <td>0.181625</td>\n",
              "      <td>0.093880</td>\n",
              "      <td>0.032706</td>\n",
              "      <td>0.118857</td>\n",
              "      <td>0.100</td>\n",
              "    </tr>\n",
              "    <tr>\n",
              "      <th>Folate_Tot_(µg)</th>\n",
              "      <td>79.625000</td>\n",
              "      <td>66.250000</td>\n",
              "      <td>15.275510</td>\n",
              "      <td>2.882353</td>\n",
              "      <td>18.142857</td>\n",
              "      <td>25.000</td>\n",
              "    </tr>\n",
              "    <tr>\n",
              "      <th>Folic_Acid_(µg)</th>\n",
              "      <td>45.428571</td>\n",
              "      <td>2.025000</td>\n",
              "      <td>0.173469</td>\n",
              "      <td>0.000000</td>\n",
              "      <td>0.000000</td>\n",
              "      <td>0.000</td>\n",
              "    </tr>\n",
              "    <tr>\n",
              "      <th>Food_Folate_(µg)</th>\n",
              "      <td>35.875000</td>\n",
              "      <td>64.200000</td>\n",
              "      <td>15.102041</td>\n",
              "      <td>2.882353</td>\n",
              "      <td>18.142857</td>\n",
              "      <td>25.000</td>\n",
              "    </tr>\n",
              "    <tr>\n",
              "      <th>Folate_DFE_(µg)</th>\n",
              "      <td>111.103896</td>\n",
              "      <td>67.675000</td>\n",
              "      <td>15.387755</td>\n",
              "      <td>2.882353</td>\n",
              "      <td>18.142857</td>\n",
              "      <td>25.000</td>\n",
              "    </tr>\n",
              "    <tr>\n",
              "      <th>Choline_Tot_ (mg)</th>\n",
              "      <td>20.004839</td>\n",
              "      <td>288.808108</td>\n",
              "      <td>20.056044</td>\n",
              "      <td>4.972727</td>\n",
              "      <td>20.437500</td>\n",
              "      <td>15.400</td>\n",
              "    </tr>\n",
              "    <tr>\n",
              "      <th>Vit_B12_(µg)</th>\n",
              "      <td>0.044805</td>\n",
              "      <td>1.457000</td>\n",
              "      <td>1.121000</td>\n",
              "      <td>0.000000</td>\n",
              "      <td>0.000000</td>\n",
              "      <td>1.100</td>\n",
              "    </tr>\n",
              "    <tr>\n",
              "      <th>Vit_A_IU</th>\n",
              "      <td>63.230769</td>\n",
              "      <td>745.725000</td>\n",
              "      <td>681.540000</td>\n",
              "      <td>495.411765</td>\n",
              "      <td>600.071429</td>\n",
              "      <td>151.000</td>\n",
              "    </tr>\n",
              "    <tr>\n",
              "      <th>Vit_A_RAE</th>\n",
              "      <td>11.421053</td>\n",
              "      <td>153.025000</td>\n",
              "      <td>183.363636</td>\n",
              "      <td>24.882353</td>\n",
              "      <td>30.000000</td>\n",
              "      <td>40.000</td>\n",
              "    </tr>\n",
              "    <tr>\n",
              "      <th>Retinol_(µg)</th>\n",
              "      <td>10.065789</td>\n",
              "      <td>138.950000</td>\n",
              "      <td>179.232323</td>\n",
              "      <td>0.000000</td>\n",
              "      <td>0.000000</td>\n",
              "      <td>39.000</td>\n",
              "    </tr>\n",
              "    <tr>\n",
              "      <th>Alpha_Carot_(µg)</th>\n",
              "      <td>0.380952</td>\n",
              "      <td>62.297297</td>\n",
              "      <td>0.500000</td>\n",
              "      <td>0.545455</td>\n",
              "      <td>19.888889</td>\n",
              "      <td>0.000</td>\n",
              "    </tr>\n",
              "    <tr>\n",
              "      <th>Beta_Carot_(µg)</th>\n",
              "      <td>8.906250</td>\n",
              "      <td>150.945946</td>\n",
              "      <td>48.195652</td>\n",
              "      <td>262.454545</td>\n",
              "      <td>294.111111</td>\n",
              "      <td>13.000</td>\n",
              "    </tr>\n",
              "    <tr>\n",
              "      <th>Beta_Crypt_(µg)</th>\n",
              "      <td>0.460317</td>\n",
              "      <td>9.594595</td>\n",
              "      <td>0.597826</td>\n",
              "      <td>103.636364</td>\n",
              "      <td>0.000000</td>\n",
              "      <td>0.000</td>\n",
              "    </tr>\n",
              "    <tr>\n",
              "      <th>Lycopene_(µg)</th>\n",
              "      <td>0.000000</td>\n",
              "      <td>0.270270</td>\n",
              "      <td>0.010870</td>\n",
              "      <td>0.000000</td>\n",
              "      <td>7670.333333</td>\n",
              "      <td>0.000</td>\n",
              "    </tr>\n",
              "    <tr>\n",
              "      <th>Lut+Zea_ (µg)</th>\n",
              "      <td>61.730159</td>\n",
              "      <td>314.000000</td>\n",
              "      <td>9.890110</td>\n",
              "      <td>116.545455</td>\n",
              "      <td>241.888889</td>\n",
              "      <td>0.000</td>\n",
              "    </tr>\n",
              "    <tr>\n",
              "      <th>Vit_E_(mg)</th>\n",
              "      <td>0.514179</td>\n",
              "      <td>1.046216</td>\n",
              "      <td>0.345435</td>\n",
              "      <td>0.502727</td>\n",
              "      <td>0.590000</td>\n",
              "      <td>0.040</td>\n",
              "    </tr>\n",
              "    <tr>\n",
              "      <th>Vit_D_µg</th>\n",
              "      <td>0.021538</td>\n",
              "      <td>1.932432</td>\n",
              "      <td>0.634066</td>\n",
              "      <td>0.000000</td>\n",
              "      <td>0.000000</td>\n",
              "      <td>0.000</td>\n",
              "    </tr>\n",
              "    <tr>\n",
              "      <th>Vit_D_IU</th>\n",
              "      <td>0.846154</td>\n",
              "      <td>77.513514</td>\n",
              "      <td>25.483516</td>\n",
              "      <td>0.000000</td>\n",
              "      <td>0.000000</td>\n",
              "      <td>0.000</td>\n",
              "    </tr>\n",
              "    <tr>\n",
              "      <th>Vit_K_(µg)</th>\n",
              "      <td>4.303175</td>\n",
              "      <td>3.372973</td>\n",
              "      <td>2.304348</td>\n",
              "      <td>3.400000</td>\n",
              "      <td>8.866667</td>\n",
              "      <td>0.400</td>\n",
              "    </tr>\n",
              "    <tr>\n",
              "      <th>FA_Sat_(g)</th>\n",
              "      <td>1.140071</td>\n",
              "      <td>3.746525</td>\n",
              "      <td>12.377490</td>\n",
              "      <td>0.022706</td>\n",
              "      <td>0.223714</td>\n",
              "      <td>3.110</td>\n",
              "    </tr>\n",
              "    <tr>\n",
              "      <th>FA_Mono_(g)</th>\n",
              "      <td>1.768595</td>\n",
              "      <td>4.652900</td>\n",
              "      <td>5.757130</td>\n",
              "      <td>0.077706</td>\n",
              "      <td>0.751571</td>\n",
              "      <td>1.446</td>\n",
              "    </tr>\n",
              "    <tr>\n",
              "      <th>FA_Poly_(g)</th>\n",
              "      <td>1.678417</td>\n",
              "      <td>2.121125</td>\n",
              "      <td>0.863440</td>\n",
              "      <td>0.102882</td>\n",
              "      <td>0.350786</td>\n",
              "      <td>0.186</td>\n",
              "    </tr>\n",
              "    <tr>\n",
              "      <th>Cholestrl_(mg)</th>\n",
              "      <td>4.948052</td>\n",
              "      <td>462.650000</td>\n",
              "      <td>66.090000</td>\n",
              "      <td>0.000000</td>\n",
              "      <td>0.000000</td>\n",
              "      <td>20.000</td>\n",
              "    </tr>\n",
              "  </tbody>\n",
              "</table>\n",
              "</div>"
            ],
            "text/plain": [
              "                            0           0  ...            0         0\n",
              "Water_(g)           34.457262   55.625500  ...    84.285000     8.600\n",
              "Energ_Kcal         277.178571  231.275000  ...    54.500000   370.000\n",
              "Protein_(g)          8.976190   21.173750  ...     2.290714    40.000\n",
              "Lipid_Tot_(g)        5.289762   11.826250  ...     1.560714     5.000\n",
              "Ash_(g)              2.163095    2.396500  ...     1.911429     6.400\n",
              "Carbohydrt_(g)      49.089643    8.987500  ...     9.953571    40.000\n",
              "Fiber_TD_(g)         4.962500    0.446154  ...     2.446154     0.000\n",
              "Sugar_Tot_(g)        5.861714    2.908919  ...     6.913333     1.500\n",
              "Calcium_(mg)        86.714286   93.850000  ...    28.428571   800.000\n",
              "Iron_(mg)            2.723333    2.162250  ...     1.425714     5.000\n",
              "Magnesium_(mg)      40.738095   23.300000  ...    29.428571    40.000\n",
              "Phosphorus_(mg)    151.964286  220.675000  ...    57.571429   700.000\n",
              "Potassium_(mg)     214.345238  296.025000  ...   541.071429   600.000\n",
              "Sodium_(mg)        484.154762  528.100000  ...   150.142857  1150.000\n",
              "Zinc_(mg)            1.008452    1.375500  ...     0.335714     3.000\n",
              "Copper_mg)           0.209964    0.081900  ...     0.210143     0.020\n",
              "Manganese_(mg)       0.799575    0.078789  ...     0.260500       NaN\n",
              "Selenium_(µg)       25.406667   50.292500  ...     1.107692    43.300\n",
              "Vit_C_(mg)           0.841558    1.423077  ...    22.528571     0.000\n",
              "Thiamin_(mg)         0.365410    0.111150  ...     0.170714     0.050\n",
              "Riboflavin_(mg)      0.259229    0.729125  ...     0.096571     0.050\n",
              "Niacin_(mg)          3.721687    0.446900  ...     1.551429     0.200\n",
              "Panto_Acid_mg)       0.445413    1.999395  ...     0.338500       NaN\n",
              "Vit_B6_(mg)          0.123463    0.181625  ...     0.118857     0.100\n",
              "Folate_Tot_(µg)     79.625000   66.250000  ...    18.142857    25.000\n",
              "Folic_Acid_(µg)     45.428571    2.025000  ...     0.000000     0.000\n",
              "Food_Folate_(µg)    35.875000   64.200000  ...    18.142857    25.000\n",
              "Folate_DFE_(µg)    111.103896   67.675000  ...    18.142857    25.000\n",
              "Choline_Tot_ (mg)   20.004839  288.808108  ...    20.437500    15.400\n",
              "Vit_B12_(µg)         0.044805    1.457000  ...     0.000000     1.100\n",
              "Vit_A_IU            63.230769  745.725000  ...   600.071429   151.000\n",
              "Vit_A_RAE           11.421053  153.025000  ...    30.000000    40.000\n",
              "Retinol_(µg)        10.065789  138.950000  ...     0.000000    39.000\n",
              "Alpha_Carot_(µg)     0.380952   62.297297  ...    19.888889     0.000\n",
              "Beta_Carot_(µg)      8.906250  150.945946  ...   294.111111    13.000\n",
              "Beta_Crypt_(µg)      0.460317    9.594595  ...     0.000000     0.000\n",
              "Lycopene_(µg)        0.000000    0.270270  ...  7670.333333     0.000\n",
              "Lut+Zea_ (µg)       61.730159  314.000000  ...   241.888889     0.000\n",
              "Vit_E_(mg)           0.514179    1.046216  ...     0.590000     0.040\n",
              "Vit_D_µg             0.021538    1.932432  ...     0.000000     0.000\n",
              "Vit_D_IU             0.846154   77.513514  ...     0.000000     0.000\n",
              "Vit_K_(µg)           4.303175    3.372973  ...     8.866667     0.400\n",
              "FA_Sat_(g)           1.140071    3.746525  ...     0.223714     3.110\n",
              "FA_Mono_(g)          1.768595    4.652900  ...     0.751571     1.446\n",
              "FA_Poly_(g)          1.678417    2.121125  ...     0.350786     0.186\n",
              "Cholestrl_(mg)       4.948052  462.650000  ...     0.000000    20.000\n",
              "\n",
              "[46 rows x 6 columns]"
            ]
          },
          "metadata": {
            "tags": []
          },
          "execution_count": 18
        }
      ]
    },
    {
      "cell_type": "code",
      "metadata": {
        "id": "v9PWEJtttDi3"
      },
      "source": [
        "# add column name\n",
        "new_df.columns = user_df['product'].values\n",
        "j = 0\n",
        "# each product elements we multiply by gramm/100\n",
        "for i in new_df.columns:\n",
        "    new_df[i] = new_df[i] * (user_df['gramm'].iloc[j]/100)\n",
        "    j+=1\n",
        "# transpose it for add gramms\n",
        "new_df = new_df.transpose()\n",
        "new_df['Gramm'] = user_df['gramm'].values\n",
        "# transpose back easy to show\n",
        "new_df = new_df.transpose()"
      ],
      "execution_count": 19,
      "outputs": []
    },
    {
      "cell_type": "code",
      "metadata": {
        "id": "3bREoIjatDi4"
      },
      "source": [
        "# add column total were values sum by column\n",
        "new_df['total'] = new_df.transpose().sum()"
      ],
      "execution_count": 20,
      "outputs": []
    },
    {
      "cell_type": "code",
      "metadata": {
        "id": "6hKGg0I1tDi4",
        "colab": {
          "base_uri": "https://localhost:8080/",
          "height": 1000
        },
        "outputId": "071a1d02-18e0-40aa-8ffe-97ebd7534dcb"
      },
      "source": [
        "# final DF\n",
        "round(new_df)"
      ],
      "execution_count": 21,
      "outputs": [
        {
          "output_type": "execute_result",
          "data": {
            "text/html": [
              "<div>\n",
              "<style scoped>\n",
              "    .dataframe tbody tr th:only-of-type {\n",
              "        vertical-align: middle;\n",
              "    }\n",
              "\n",
              "    .dataframe tbody tr th {\n",
              "        vertical-align: top;\n",
              "    }\n",
              "\n",
              "    .dataframe thead th {\n",
              "        text-align: right;\n",
              "    }\n",
              "</style>\n",
              "<table border=\"1\" class=\"dataframe\">\n",
              "  <thead>\n",
              "    <tr style=\"text-align: right;\">\n",
              "      <th></th>\n",
              "      <th>BREAD</th>\n",
              "      <th>EGG</th>\n",
              "      <th>CHEESE</th>\n",
              "      <th>PEACH</th>\n",
              "      <th>TOMATOES</th>\n",
              "      <th>PARMESAN</th>\n",
              "      <th>total</th>\n",
              "    </tr>\n",
              "  </thead>\n",
              "  <tbody>\n",
              "    <tr>\n",
              "      <th>Water_(g)</th>\n",
              "      <td>41.0</td>\n",
              "      <td>223.0</td>\n",
              "      <td>277.0</td>\n",
              "      <td>110.0</td>\n",
              "      <td>421.0</td>\n",
              "      <td>26.0</td>\n",
              "      <td>1098.0</td>\n",
              "    </tr>\n",
              "    <tr>\n",
              "      <th>Energ_Kcal</th>\n",
              "      <td>333.0</td>\n",
              "      <td>925.0</td>\n",
              "      <td>1619.0</td>\n",
              "      <td>141.0</td>\n",
              "      <td>272.0</td>\n",
              "      <td>1110.0</td>\n",
              "      <td>4401.0</td>\n",
              "    </tr>\n",
              "    <tr>\n",
              "      <th>Protein_(g)</th>\n",
              "      <td>11.0</td>\n",
              "      <td>85.0</td>\n",
              "      <td>114.0</td>\n",
              "      <td>2.0</td>\n",
              "      <td>11.0</td>\n",
              "      <td>120.0</td>\n",
              "      <td>342.0</td>\n",
              "    </tr>\n",
              "    <tr>\n",
              "      <th>Lipid_Tot_(g)</th>\n",
              "      <td>6.0</td>\n",
              "      <td>47.0</td>\n",
              "      <td>114.0</td>\n",
              "      <td>0.0</td>\n",
              "      <td>8.0</td>\n",
              "      <td>15.0</td>\n",
              "      <td>191.0</td>\n",
              "    </tr>\n",
              "    <tr>\n",
              "      <th>Ash_(g)</th>\n",
              "      <td>3.0</td>\n",
              "      <td>10.0</td>\n",
              "      <td>22.0</td>\n",
              "      <td>1.0</td>\n",
              "      <td>10.0</td>\n",
              "      <td>19.0</td>\n",
              "      <td>64.0</td>\n",
              "    </tr>\n",
              "    <tr>\n",
              "      <th>Carbohydrt_(g)</th>\n",
              "      <td>59.0</td>\n",
              "      <td>36.0</td>\n",
              "      <td>33.0</td>\n",
              "      <td>37.0</td>\n",
              "      <td>50.0</td>\n",
              "      <td>120.0</td>\n",
              "      <td>334.0</td>\n",
              "    </tr>\n",
              "    <tr>\n",
              "      <th>Fiber_TD_(g)</th>\n",
              "      <td>6.0</td>\n",
              "      <td>2.0</td>\n",
              "      <td>1.0</td>\n",
              "      <td>3.0</td>\n",
              "      <td>12.0</td>\n",
              "      <td>0.0</td>\n",
              "      <td>23.0</td>\n",
              "    </tr>\n",
              "    <tr>\n",
              "      <th>Sugar_Tot_(g)</th>\n",
              "      <td>7.0</td>\n",
              "      <td>12.0</td>\n",
              "      <td>15.0</td>\n",
              "      <td>24.0</td>\n",
              "      <td>35.0</td>\n",
              "      <td>4.0</td>\n",
              "      <td>97.0</td>\n",
              "    </tr>\n",
              "    <tr>\n",
              "      <th>Calcium_(mg)</th>\n",
              "      <td>104.0</td>\n",
              "      <td>375.0</td>\n",
              "      <td>3312.0</td>\n",
              "      <td>13.0</td>\n",
              "      <td>142.0</td>\n",
              "      <td>2400.0</td>\n",
              "      <td>6347.0</td>\n",
              "    </tr>\n",
              "    <tr>\n",
              "      <th>Iron_(mg)</th>\n",
              "      <td>3.0</td>\n",
              "      <td>9.0</td>\n",
              "      <td>2.0</td>\n",
              "      <td>2.0</td>\n",
              "      <td>7.0</td>\n",
              "      <td>15.0</td>\n",
              "      <td>38.0</td>\n",
              "    </tr>\n",
              "    <tr>\n",
              "      <th>Magnesium_(mg)</th>\n",
              "      <td>49.0</td>\n",
              "      <td>93.0</td>\n",
              "      <td>145.0</td>\n",
              "      <td>19.0</td>\n",
              "      <td>147.0</td>\n",
              "      <td>120.0</td>\n",
              "      <td>573.0</td>\n",
              "    </tr>\n",
              "    <tr>\n",
              "      <th>Phosphorus_(mg)</th>\n",
              "      <td>182.0</td>\n",
              "      <td>883.0</td>\n",
              "      <td>2633.0</td>\n",
              "      <td>49.0</td>\n",
              "      <td>288.0</td>\n",
              "      <td>2100.0</td>\n",
              "      <td>6135.0</td>\n",
              "    </tr>\n",
              "    <tr>\n",
              "      <th>Potassium_(mg)</th>\n",
              "      <td>257.0</td>\n",
              "      <td>1184.0</td>\n",
              "      <td>884.0</td>\n",
              "      <td>412.0</td>\n",
              "      <td>2705.0</td>\n",
              "      <td>1800.0</td>\n",
              "      <td>7242.0</td>\n",
              "    </tr>\n",
              "    <tr>\n",
              "      <th>Sodium_(mg)</th>\n",
              "      <td>581.0</td>\n",
              "      <td>2112.0</td>\n",
              "      <td>4480.0</td>\n",
              "      <td>8.0</td>\n",
              "      <td>751.0</td>\n",
              "      <td>3450.0</td>\n",
              "      <td>11382.0</td>\n",
              "    </tr>\n",
              "    <tr>\n",
              "      <th>Zinc_(mg)</th>\n",
              "      <td>1.0</td>\n",
              "      <td>6.0</td>\n",
              "      <td>14.0</td>\n",
              "      <td>0.0</td>\n",
              "      <td>2.0</td>\n",
              "      <td>9.0</td>\n",
              "      <td>32.0</td>\n",
              "    </tr>\n",
              "    <tr>\n",
              "      <th>Copper_mg)</th>\n",
              "      <td>0.0</td>\n",
              "      <td>0.0</td>\n",
              "      <td>0.0</td>\n",
              "      <td>0.0</td>\n",
              "      <td>1.0</td>\n",
              "      <td>0.0</td>\n",
              "      <td>2.0</td>\n",
              "    </tr>\n",
              "    <tr>\n",
              "      <th>Manganese_(mg)</th>\n",
              "      <td>1.0</td>\n",
              "      <td>0.0</td>\n",
              "      <td>0.0</td>\n",
              "      <td>0.0</td>\n",
              "      <td>1.0</td>\n",
              "      <td>NaN</td>\n",
              "      <td>3.0</td>\n",
              "    </tr>\n",
              "    <tr>\n",
              "      <th>Selenium_(µg)</th>\n",
              "      <td>30.0</td>\n",
              "      <td>201.0</td>\n",
              "      <td>82.0</td>\n",
              "      <td>0.0</td>\n",
              "      <td>6.0</td>\n",
              "      <td>130.0</td>\n",
              "      <td>450.0</td>\n",
              "    </tr>\n",
              "    <tr>\n",
              "      <th>Vit_C_(mg)</th>\n",
              "      <td>1.0</td>\n",
              "      <td>6.0</td>\n",
              "      <td>2.0</td>\n",
              "      <td>15.0</td>\n",
              "      <td>113.0</td>\n",
              "      <td>0.0</td>\n",
              "      <td>137.0</td>\n",
              "    </tr>\n",
              "    <tr>\n",
              "      <th>Thiamin_(mg)</th>\n",
              "      <td>0.0</td>\n",
              "      <td>0.0</td>\n",
              "      <td>0.0</td>\n",
              "      <td>0.0</td>\n",
              "      <td>1.0</td>\n",
              "      <td>0.0</td>\n",
              "      <td>2.0</td>\n",
              "    </tr>\n",
              "    <tr>\n",
              "      <th>Riboflavin_(mg)</th>\n",
              "      <td>0.0</td>\n",
              "      <td>3.0</td>\n",
              "      <td>2.0</td>\n",
              "      <td>0.0</td>\n",
              "      <td>0.0</td>\n",
              "      <td>0.0</td>\n",
              "      <td>6.0</td>\n",
              "    </tr>\n",
              "    <tr>\n",
              "      <th>Niacin_(mg)</th>\n",
              "      <td>4.0</td>\n",
              "      <td>2.0</td>\n",
              "      <td>2.0</td>\n",
              "      <td>2.0</td>\n",
              "      <td>8.0</td>\n",
              "      <td>1.0</td>\n",
              "      <td>18.0</td>\n",
              "    </tr>\n",
              "    <tr>\n",
              "      <th>Panto_Acid_mg)</th>\n",
              "      <td>1.0</td>\n",
              "      <td>8.0</td>\n",
              "      <td>3.0</td>\n",
              "      <td>0.0</td>\n",
              "      <td>2.0</td>\n",
              "      <td>NaN</td>\n",
              "      <td>13.0</td>\n",
              "    </tr>\n",
              "    <tr>\n",
              "      <th>Vit_B6_(mg)</th>\n",
              "      <td>0.0</td>\n",
              "      <td>1.0</td>\n",
              "      <td>1.0</td>\n",
              "      <td>0.0</td>\n",
              "      <td>1.0</td>\n",
              "      <td>0.0</td>\n",
              "      <td>2.0</td>\n",
              "    </tr>\n",
              "    <tr>\n",
              "      <th>Folate_Tot_(µg)</th>\n",
              "      <td>96.0</td>\n",
              "      <td>265.0</td>\n",
              "      <td>86.0</td>\n",
              "      <td>4.0</td>\n",
              "      <td>91.0</td>\n",
              "      <td>75.0</td>\n",
              "      <td>616.0</td>\n",
              "    </tr>\n",
              "    <tr>\n",
              "      <th>Folic_Acid_(µg)</th>\n",
              "      <td>55.0</td>\n",
              "      <td>8.0</td>\n",
              "      <td>1.0</td>\n",
              "      <td>0.0</td>\n",
              "      <td>0.0</td>\n",
              "      <td>0.0</td>\n",
              "      <td>64.0</td>\n",
              "    </tr>\n",
              "    <tr>\n",
              "      <th>Food_Folate_(µg)</th>\n",
              "      <td>43.0</td>\n",
              "      <td>257.0</td>\n",
              "      <td>85.0</td>\n",
              "      <td>4.0</td>\n",
              "      <td>91.0</td>\n",
              "      <td>75.0</td>\n",
              "      <td>554.0</td>\n",
              "    </tr>\n",
              "    <tr>\n",
              "      <th>Folate_DFE_(µg)</th>\n",
              "      <td>133.0</td>\n",
              "      <td>271.0</td>\n",
              "      <td>86.0</td>\n",
              "      <td>4.0</td>\n",
              "      <td>91.0</td>\n",
              "      <td>75.0</td>\n",
              "      <td>660.0</td>\n",
              "    </tr>\n",
              "    <tr>\n",
              "      <th>Choline_Tot_ (mg)</th>\n",
              "      <td>24.0</td>\n",
              "      <td>1155.0</td>\n",
              "      <td>112.0</td>\n",
              "      <td>7.0</td>\n",
              "      <td>102.0</td>\n",
              "      <td>46.0</td>\n",
              "      <td>1447.0</td>\n",
              "    </tr>\n",
              "    <tr>\n",
              "      <th>Vit_B12_(µg)</th>\n",
              "      <td>0.0</td>\n",
              "      <td>6.0</td>\n",
              "      <td>6.0</td>\n",
              "      <td>0.0</td>\n",
              "      <td>0.0</td>\n",
              "      <td>3.0</td>\n",
              "      <td>15.0</td>\n",
              "    </tr>\n",
              "    <tr>\n",
              "      <th>Vit_A_IU</th>\n",
              "      <td>76.0</td>\n",
              "      <td>2983.0</td>\n",
              "      <td>3817.0</td>\n",
              "      <td>743.0</td>\n",
              "      <td>3000.0</td>\n",
              "      <td>453.0</td>\n",
              "      <td>11072.0</td>\n",
              "    </tr>\n",
              "    <tr>\n",
              "      <th>Vit_A_RAE</th>\n",
              "      <td>14.0</td>\n",
              "      <td>612.0</td>\n",
              "      <td>1027.0</td>\n",
              "      <td>37.0</td>\n",
              "      <td>150.0</td>\n",
              "      <td>120.0</td>\n",
              "      <td>1960.0</td>\n",
              "    </tr>\n",
              "    <tr>\n",
              "      <th>Retinol_(µg)</th>\n",
              "      <td>12.0</td>\n",
              "      <td>556.0</td>\n",
              "      <td>1004.0</td>\n",
              "      <td>0.0</td>\n",
              "      <td>0.0</td>\n",
              "      <td>117.0</td>\n",
              "      <td>1689.0</td>\n",
              "    </tr>\n",
              "    <tr>\n",
              "      <th>Alpha_Carot_(µg)</th>\n",
              "      <td>0.0</td>\n",
              "      <td>249.0</td>\n",
              "      <td>3.0</td>\n",
              "      <td>1.0</td>\n",
              "      <td>99.0</td>\n",
              "      <td>0.0</td>\n",
              "      <td>353.0</td>\n",
              "    </tr>\n",
              "    <tr>\n",
              "      <th>Beta_Carot_(µg)</th>\n",
              "      <td>11.0</td>\n",
              "      <td>604.0</td>\n",
              "      <td>270.0</td>\n",
              "      <td>394.0</td>\n",
              "      <td>1471.0</td>\n",
              "      <td>39.0</td>\n",
              "      <td>2788.0</td>\n",
              "    </tr>\n",
              "    <tr>\n",
              "      <th>Beta_Crypt_(µg)</th>\n",
              "      <td>1.0</td>\n",
              "      <td>38.0</td>\n",
              "      <td>3.0</td>\n",
              "      <td>155.0</td>\n",
              "      <td>0.0</td>\n",
              "      <td>0.0</td>\n",
              "      <td>198.0</td>\n",
              "    </tr>\n",
              "    <tr>\n",
              "      <th>Lycopene_(µg)</th>\n",
              "      <td>0.0</td>\n",
              "      <td>1.0</td>\n",
              "      <td>0.0</td>\n",
              "      <td>0.0</td>\n",
              "      <td>38352.0</td>\n",
              "      <td>0.0</td>\n",
              "      <td>38353.0</td>\n",
              "    </tr>\n",
              "    <tr>\n",
              "      <th>Lut+Zea_ (µg)</th>\n",
              "      <td>74.0</td>\n",
              "      <td>1256.0</td>\n",
              "      <td>55.0</td>\n",
              "      <td>175.0</td>\n",
              "      <td>1209.0</td>\n",
              "      <td>0.0</td>\n",
              "      <td>2770.0</td>\n",
              "    </tr>\n",
              "    <tr>\n",
              "      <th>Vit_E_(mg)</th>\n",
              "      <td>1.0</td>\n",
              "      <td>4.0</td>\n",
              "      <td>2.0</td>\n",
              "      <td>1.0</td>\n",
              "      <td>3.0</td>\n",
              "      <td>0.0</td>\n",
              "      <td>11.0</td>\n",
              "    </tr>\n",
              "    <tr>\n",
              "      <th>Vit_D_µg</th>\n",
              "      <td>0.0</td>\n",
              "      <td>8.0</td>\n",
              "      <td>4.0</td>\n",
              "      <td>0.0</td>\n",
              "      <td>0.0</td>\n",
              "      <td>0.0</td>\n",
              "      <td>11.0</td>\n",
              "    </tr>\n",
              "    <tr>\n",
              "      <th>Vit_D_IU</th>\n",
              "      <td>1.0</td>\n",
              "      <td>310.0</td>\n",
              "      <td>143.0</td>\n",
              "      <td>0.0</td>\n",
              "      <td>0.0</td>\n",
              "      <td>0.0</td>\n",
              "      <td>454.0</td>\n",
              "    </tr>\n",
              "    <tr>\n",
              "      <th>Vit_K_(µg)</th>\n",
              "      <td>5.0</td>\n",
              "      <td>13.0</td>\n",
              "      <td>13.0</td>\n",
              "      <td>5.0</td>\n",
              "      <td>44.0</td>\n",
              "      <td>1.0</td>\n",
              "      <td>82.0</td>\n",
              "    </tr>\n",
              "    <tr>\n",
              "      <th>FA_Sat_(g)</th>\n",
              "      <td>1.0</td>\n",
              "      <td>15.0</td>\n",
              "      <td>69.0</td>\n",
              "      <td>0.0</td>\n",
              "      <td>1.0</td>\n",
              "      <td>9.0</td>\n",
              "      <td>96.0</td>\n",
              "    </tr>\n",
              "    <tr>\n",
              "      <th>FA_Mono_(g)</th>\n",
              "      <td>2.0</td>\n",
              "      <td>19.0</td>\n",
              "      <td>32.0</td>\n",
              "      <td>0.0</td>\n",
              "      <td>4.0</td>\n",
              "      <td>4.0</td>\n",
              "      <td>61.0</td>\n",
              "    </tr>\n",
              "    <tr>\n",
              "      <th>FA_Poly_(g)</th>\n",
              "      <td>2.0</td>\n",
              "      <td>8.0</td>\n",
              "      <td>5.0</td>\n",
              "      <td>0.0</td>\n",
              "      <td>2.0</td>\n",
              "      <td>1.0</td>\n",
              "      <td>18.0</td>\n",
              "    </tr>\n",
              "    <tr>\n",
              "      <th>Cholestrl_(mg)</th>\n",
              "      <td>6.0</td>\n",
              "      <td>1851.0</td>\n",
              "      <td>370.0</td>\n",
              "      <td>0.0</td>\n",
              "      <td>0.0</td>\n",
              "      <td>60.0</td>\n",
              "      <td>2287.0</td>\n",
              "    </tr>\n",
              "    <tr>\n",
              "      <th>Gramm</th>\n",
              "      <td>120.0</td>\n",
              "      <td>400.0</td>\n",
              "      <td>560.0</td>\n",
              "      <td>150.0</td>\n",
              "      <td>500.0</td>\n",
              "      <td>300.0</td>\n",
              "      <td>2030.0</td>\n",
              "    </tr>\n",
              "  </tbody>\n",
              "</table>\n",
              "</div>"
            ],
            "text/plain": [
              "                   BREAD     EGG  CHEESE  PEACH  TOMATOES  PARMESAN    total\n",
              "Water_(g)           41.0   223.0   277.0  110.0     421.0      26.0   1098.0\n",
              "Energ_Kcal         333.0   925.0  1619.0  141.0     272.0    1110.0   4401.0\n",
              "Protein_(g)         11.0    85.0   114.0    2.0      11.0     120.0    342.0\n",
              "Lipid_Tot_(g)        6.0    47.0   114.0    0.0       8.0      15.0    191.0\n",
              "Ash_(g)              3.0    10.0    22.0    1.0      10.0      19.0     64.0\n",
              "Carbohydrt_(g)      59.0    36.0    33.0   37.0      50.0     120.0    334.0\n",
              "Fiber_TD_(g)         6.0     2.0     1.0    3.0      12.0       0.0     23.0\n",
              "Sugar_Tot_(g)        7.0    12.0    15.0   24.0      35.0       4.0     97.0\n",
              "Calcium_(mg)       104.0   375.0  3312.0   13.0     142.0    2400.0   6347.0\n",
              "Iron_(mg)            3.0     9.0     2.0    2.0       7.0      15.0     38.0\n",
              "Magnesium_(mg)      49.0    93.0   145.0   19.0     147.0     120.0    573.0\n",
              "Phosphorus_(mg)    182.0   883.0  2633.0   49.0     288.0    2100.0   6135.0\n",
              "Potassium_(mg)     257.0  1184.0   884.0  412.0    2705.0    1800.0   7242.0\n",
              "Sodium_(mg)        581.0  2112.0  4480.0    8.0     751.0    3450.0  11382.0\n",
              "Zinc_(mg)            1.0     6.0    14.0    0.0       2.0       9.0     32.0\n",
              "Copper_mg)           0.0     0.0     0.0    0.0       1.0       0.0      2.0\n",
              "Manganese_(mg)       1.0     0.0     0.0    0.0       1.0       NaN      3.0\n",
              "Selenium_(µg)       30.0   201.0    82.0    0.0       6.0     130.0    450.0\n",
              "Vit_C_(mg)           1.0     6.0     2.0   15.0     113.0       0.0    137.0\n",
              "Thiamin_(mg)         0.0     0.0     0.0    0.0       1.0       0.0      2.0\n",
              "Riboflavin_(mg)      0.0     3.0     2.0    0.0       0.0       0.0      6.0\n",
              "Niacin_(mg)          4.0     2.0     2.0    2.0       8.0       1.0     18.0\n",
              "Panto_Acid_mg)       1.0     8.0     3.0    0.0       2.0       NaN     13.0\n",
              "Vit_B6_(mg)          0.0     1.0     1.0    0.0       1.0       0.0      2.0\n",
              "Folate_Tot_(µg)     96.0   265.0    86.0    4.0      91.0      75.0    616.0\n",
              "Folic_Acid_(µg)     55.0     8.0     1.0    0.0       0.0       0.0     64.0\n",
              "Food_Folate_(µg)    43.0   257.0    85.0    4.0      91.0      75.0    554.0\n",
              "Folate_DFE_(µg)    133.0   271.0    86.0    4.0      91.0      75.0    660.0\n",
              "Choline_Tot_ (mg)   24.0  1155.0   112.0    7.0     102.0      46.0   1447.0\n",
              "Vit_B12_(µg)         0.0     6.0     6.0    0.0       0.0       3.0     15.0\n",
              "Vit_A_IU            76.0  2983.0  3817.0  743.0    3000.0     453.0  11072.0\n",
              "Vit_A_RAE           14.0   612.0  1027.0   37.0     150.0     120.0   1960.0\n",
              "Retinol_(µg)        12.0   556.0  1004.0    0.0       0.0     117.0   1689.0\n",
              "Alpha_Carot_(µg)     0.0   249.0     3.0    1.0      99.0       0.0    353.0\n",
              "Beta_Carot_(µg)     11.0   604.0   270.0  394.0    1471.0      39.0   2788.0\n",
              "Beta_Crypt_(µg)      1.0    38.0     3.0  155.0       0.0       0.0    198.0\n",
              "Lycopene_(µg)        0.0     1.0     0.0    0.0   38352.0       0.0  38353.0\n",
              "Lut+Zea_ (µg)       74.0  1256.0    55.0  175.0    1209.0       0.0   2770.0\n",
              "Vit_E_(mg)           1.0     4.0     2.0    1.0       3.0       0.0     11.0\n",
              "Vit_D_µg             0.0     8.0     4.0    0.0       0.0       0.0     11.0\n",
              "Vit_D_IU             1.0   310.0   143.0    0.0       0.0       0.0    454.0\n",
              "Vit_K_(µg)           5.0    13.0    13.0    5.0      44.0       1.0     82.0\n",
              "FA_Sat_(g)           1.0    15.0    69.0    0.0       1.0       9.0     96.0\n",
              "FA_Mono_(g)          2.0    19.0    32.0    0.0       4.0       4.0     61.0\n",
              "FA_Poly_(g)          2.0     8.0     5.0    0.0       2.0       1.0     18.0\n",
              "Cholestrl_(mg)       6.0  1851.0   370.0    0.0       0.0      60.0   2287.0\n",
              "Gramm              120.0   400.0   560.0  150.0     500.0     300.0   2030.0"
            ]
          },
          "metadata": {
            "tags": []
          },
          "execution_count": 21
        }
      ]
    },
    {
      "cell_type": "code",
      "metadata": {
        "id": "iYEwMKJw6tK_"
      },
      "source": [
        "new_df.to_csv(path + 'microelements.csv')\n"
      ],
      "execution_count": 22,
      "outputs": []
    }
  ]
}